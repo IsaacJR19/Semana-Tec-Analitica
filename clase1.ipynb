{
 "cells": [
  {
   "cell_type": "code",
   "execution_count": 68,
   "id": "2d2ae131",
   "metadata": {},
   "outputs": [
    {
     "name": "stdout",
     "output_type": "stream",
     "text": [
      "2\n",
      "3\n",
      "5\n",
      "7\n",
      "11\n"
     ]
    }
   ],
   "source": [
    "def numPrim(n):  \n",
    "    for i in range(2, n+1):\n",
    "        if i>1: \n",
    "            for j in range(2,i): \n",
    "                if(i % j==0): \n",
    "                    break\n",
    "            else: \n",
    "                print(i) \n",
    "                \n",
    "numPrim(11)\n",
    "      "
   ]
  },
  {
   "cell_type": "code",
   "execution_count": 74,
   "id": "ea953bea",
   "metadata": {},
   "outputs": [
    {
     "name": "stdout",
     "output_type": "stream",
     "text": [
      "[3, 5, 7, 11, 13, 17, 19]\n"
     ]
    }
   ],
   "source": [
    "import math\n",
    "\n",
    "def findPrimes(N):\n",
    "    naturals = [*range(1,N+1)]\n",
    "    primes = []\n",
    "    for i in range (2, len(naturals)):\n",
    "        isPrime = True\n",
    "        for q in range (2, int(math.sqrt(naturals[i]))+1):\n",
    "            if  naturals [i]% q ==0:\n",
    "                isPrime = False\n",
    "                break\n",
    "        if isPrime:\n",
    "            primes.append(naturals[i])\n",
    "    return primes\n",
    "            \n",
    "p=findPrimes(20)\n",
    "print (p)"
   ]
  },
  {
   "cell_type": "code",
   "execution_count": 79,
   "id": "b0480bf8",
   "metadata": {},
   "outputs": [
    {
     "name": "stdout",
     "output_type": "stream",
     "text": [
      "a=  [1.2, 3.7, -0.25]\n",
      "b=  [-0.44, -2.8, 7]\n",
      "a x b =  [25.200000000000003, -8.290000000000001, -1.7319999999999998]\n"
     ]
    }
   ],
   "source": [
    "def cross (a,b):\n",
    "    c = []\n",
    "    c.append(a[1]*b[2]-a[2]*b[1])\n",
    "    c.append(a[2]*b[0]-a[0]*b[2])\n",
    "    c.append(a[0]*b[1]-a[1]*b[0])\n",
    "    return c\n",
    "x = [1.2, 3.7, -0.25]\n",
    "y = [-0.44, -2.8, 7]\n",
    "cr = cross(x,y)\n",
    "\n",
    "print (\"a= \", x)\n",
    "print (\"b= \",y)\n",
    "print (\"a x b = \" ,cr)\n"
   ]
  },
  {
   "cell_type": "code",
   "execution_count": 1,
   "id": "cedf1f2c",
   "metadata": {},
   "outputs": [
    {
     "ename": "FileNotFoundError",
     "evalue": "[Errno 2] No such file or directory: 'vectors.csv'",
     "output_type": "error",
     "traceback": [
      "\u001b[1;31m---------------------------------------------------------------------------\u001b[0m",
      "\u001b[1;31mFileNotFoundError\u001b[0m                         Traceback (most recent call last)",
      "Input \u001b[1;32mIn [1]\u001b[0m, in \u001b[0;36m<cell line: 3>\u001b[1;34m()\u001b[0m\n\u001b[0;32m      1\u001b[0m \u001b[38;5;28;01mimport\u001b[39;00m \u001b[38;5;21;01mcsv\u001b[39;00m \n\u001b[0;32m      2\u001b[0m filas \u001b[38;5;241m=\u001b[39m []\n\u001b[1;32m----> 3\u001b[0m \u001b[38;5;28;01mwith\u001b[39;00m \u001b[38;5;28;43mopen\u001b[39;49m\u001b[43m(\u001b[49m\u001b[38;5;124;43m\"\u001b[39;49m\u001b[38;5;124;43mvectors.csv\u001b[39;49m\u001b[38;5;124;43m\"\u001b[39;49m\u001b[43m,\u001b[49m\u001b[38;5;124;43m'\u001b[39;49m\u001b[38;5;124;43mr\u001b[39;49m\u001b[38;5;124;43m'\u001b[39;49m\u001b[43m)\u001b[49m \u001b[38;5;28;01mas\u001b[39;00m file:\n\u001b[0;32m      4\u001b[0m     csvr \u001b[38;5;241m=\u001b[39m csv\u001b[38;5;241m.\u001b[39mreader(file)\n\u001b[0;32m      5\u001b[0m     \u001b[38;5;28;01mfor\u001b[39;00m row \u001b[38;5;129;01min\u001b[39;00m csvr:\n",
      "\u001b[1;31mFileNotFoundError\u001b[0m: [Errno 2] No such file or directory: 'vectors.csv'"
     ]
    }
   ],
   "source": [
    "import csv \n",
    "filas = []\n",
    "with open(\"vectors.csv\",'r') as file:\n",
    "    csvr = csv.reader(file)\n",
    "    for row in csvr:\n",
    "        filas.append(row)\n",
    "print(filas)\n",
    "a =  [float(filas[0][0]),float(filas[0][1]), float(filas[0][2])]\n",
    "b =  [float(filas[1][0]),float(filas[1][1]), float(filas[1][2])]\n",
    "cr = cruz(a,b)\n",
    "print(\"a= \",a)\n",
    "print(\"b= \",b)\n",
    "print(\"a x b= \", cr)"
   ]
  },
  {
   "cell_type": "code",
   "execution_count": null,
   "id": "f11d4261",
   "metadata": {},
   "outputs": [],
   "source": []
  }
 ],
 "metadata": {
  "kernelspec": {
   "display_name": "Python 3 (ipykernel)",
   "language": "python",
   "name": "python3"
  },
  "language_info": {
   "codemirror_mode": {
    "name": "ipython",
    "version": 3
   },
   "file_extension": ".py",
   "mimetype": "text/x-python",
   "name": "python",
   "nbconvert_exporter": "python",
   "pygments_lexer": "ipython3",
   "version": "3.9.12"
  }
 },
 "nbformat": 4,
 "nbformat_minor": 5
}
